{
 "cells": [
  {
   "cell_type": "code",
   "execution_count": 3,
   "id": "afefac3e",
   "metadata": {},
   "outputs": [],
   "source": [
    "import os\n",
    "import cv2\n",
    "import numpy as np\n",
    "import pandas as pd\n",
    "import joblib\n",
    "import insightface\n",
    "from sklearn.svm import SVR\n",
    "from sklearn.preprocessing import LabelEncoder, StandardScaler\n",
    "from sklearn.metrics import mean_absolute_error, mean_squared_error, r2_score\n",
    "from scipy.stats import pearsonr\n",
    "import matplotlib.pyplot as plt\n",
    "import seaborn as sns\n",
    "from tqdm import tqdm\n",
    "\n",
    "df = pd.read_csv(\"Data/data.csv\")\n",
    "df['full_path'] = 'Data/images/' + df['name']\n",
    "df = df[df['full_path'].apply(os.path.exists)].reset_index(drop=True)\n",
    "\n",
    "# Encode gender\n",
    "le = LabelEncoder()\n",
    "df['gender_encoded'] = le.fit_transform(df['gender'])  # e.g., female=0, male=1"
   ]
  },
  {
   "cell_type": "code",
   "execution_count": 5,
   "id": "e96b3441",
   "metadata": {},
   "outputs": [
    {
     "name": "stdout",
     "output_type": "stream",
     "text": [
      "Applied providers: ['CPUExecutionProvider'], with options: {'CPUExecutionProvider': {}}\n",
      "find model: /Users/sijiehuang/.insightface/models/buffalo_l/1k3d68.onnx landmark_3d_68 ['None', 3, 192, 192] 0.0 1.0\n",
      "Applied providers: ['CPUExecutionProvider'], with options: {'CPUExecutionProvider': {}}\n",
      "find model: /Users/sijiehuang/.insightface/models/buffalo_l/2d106det.onnx landmark_2d_106 ['None', 3, 192, 192] 0.0 1.0\n",
      "Applied providers: ['CPUExecutionProvider'], with options: {'CPUExecutionProvider': {}}\n",
      "find model: /Users/sijiehuang/.insightface/models/buffalo_l/det_10g.onnx detection [1, 3, '?', '?'] 127.5 128.0\n",
      "Applied providers: ['CPUExecutionProvider'], with options: {'CPUExecutionProvider': {}}\n",
      "find model: /Users/sijiehuang/.insightface/models/buffalo_l/genderage.onnx genderage ['None', 3, 96, 96] 0.0 1.0\n",
      "Applied providers: ['CPUExecutionProvider'], with options: {'CPUExecutionProvider': {}}\n",
      "find model: /Users/sijiehuang/.insightface/models/buffalo_l/w600k_r50.onnx recognition ['None', 3, 112, 112] 127.5 127.5\n",
      "set det-size: (640, 640)\n",
      "🔍 Extracting ArcFace embeddings...\n"
     ]
    },
    {
     "name": "stderr",
     "output_type": "stream",
     "text": [
      "  0%|          | 0/3962 [00:00<?, ?it/s]/Users/sijiehuang/Library/Python/3.9/lib/python/site-packages/insightface/utils/transform.py:68: FutureWarning: `rcond` parameter will change to the default of machine precision times ``max(M, N)`` where M and N are the input matrix dimensions.\n",
      "To use the future default and silence this warning we advise to pass `rcond=None`, to keep using the old, explicitly pass `rcond=-1`.\n",
      "  P = np.linalg.lstsq(X_homo, Y)[0].T # Affine matrix. 3 x 4\n",
      "100%|██████████| 3962/3962 [12:19<00:00,  5.36it/s]\n"
     ]
    }
   ],
   "source": [
    "arcface = insightface.app.FaceAnalysis(name='buffalo_l', providers=['CPUExecutionProvider'])\n",
    "arcface.prepare(ctx_id=0)\n",
    "\n",
    "# Prepare storage\n",
    "all_embeddings = []\n",
    "valid_idx = []\n",
    "\n",
    "print(\"🔍 Extracting ArcFace embeddings...\")\n",
    "for i, row in tqdm(df.iterrows(), total=len(df)):\n",
    "    img = cv2.imread(row['full_path'])\n",
    "    faces = arcface.get(img)\n",
    "    if faces:\n",
    "        all_embeddings.append(faces[0].embedding)\n",
    "        valid_idx.append(i)\n",
    "\n",
    "# Final valid DataFrame\n",
    "df_valid = df.iloc[valid_idx].reset_index(drop=True)\n",
    "X_face = np.vstack(all_embeddings)\n",
    "df_valid['log_bmi'] = np.log(df_valid['bmi'])"
   ]
  },
  {
   "cell_type": "code",
   "execution_count": 6,
   "id": "a95a9992",
   "metadata": {},
   "outputs": [],
   "source": [
    "failures = len(df) - len(df_valid)"
   ]
  },
  {
   "cell_type": "code",
   "execution_count": 7,
   "id": "b7548db1",
   "metadata": {},
   "outputs": [
    {
     "name": "stdout",
     "output_type": "stream",
     "text": [
      "754 images failed to extract embeddings.\n"
     ]
    }
   ],
   "source": [
    "print(failures, \"images failed to extract embeddings.\")"
   ]
  },
  {
   "cell_type": "code",
   "execution_count": 9,
   "id": "65a96117",
   "metadata": {},
   "outputs": [
    {
     "name": "stdout",
     "output_type": "stream",
     "text": [
      "Failed to extract embeddings for 19.03% of images.\n"
     ]
    }
   ],
   "source": [
    "failed_percentage = (failures / len(df)) * 100\n",
    "print(f\"Failed to extract embeddings for {failed_percentage:.2f}% of images.\")"
   ]
  },
  {
   "cell_type": "code",
   "execution_count": 10,
   "id": "0a279732",
   "metadata": {},
   "outputs": [
    {
     "name": "stdout",
     "output_type": "stream",
     "text": [
      "\n",
      "🚻 Training model for gender: Male\n",
      "📈 Pearson r: 0.679, MAE: 5.14, RMSE: 7.32\n",
      "\n",
      "🚻 Training model for gender: Female\n",
      "📈 Pearson r: 0.716, MAE: 5.37, RMSE: 7.57\n"
     ]
    },
    {
     "name": "stderr",
     "output_type": "stream",
     "text": [
      "/Users/sijiehuang/Library/Python/3.9/lib/python/site-packages/sklearn/metrics/_regression.py:492: FutureWarning: 'squared' is deprecated in version 1.4 and will be removed in 1.6. To calculate the root mean squared error, use the function'root_mean_squared_error'.\n",
      "  warnings.warn(\n",
      "/Users/sijiehuang/Library/Python/3.9/lib/python/site-packages/sklearn/metrics/_regression.py:492: FutureWarning: 'squared' is deprecated in version 1.4 and will be removed in 1.6. To calculate the root mean squared error, use the function'root_mean_squared_error'.\n",
      "  warnings.warn(\n"
     ]
    }
   ],
   "source": [
    "# Train a model for each gender\n",
    "for gender_label in df_valid['gender'].unique():\n",
    "    print(f\"\\n🚻 Training model for gender: {gender_label}\")\n",
    "    gender_df = df_valid[df_valid['gender'] == gender_label].copy()\n",
    "    gender_idx = gender_df.index\n",
    "\n",
    "    X_gender = X_face[gender_idx]\n",
    "    y_gender = gender_df['log_bmi'].values\n",
    "    is_train = gender_df['is_training'].values\n",
    "\n",
    "    # Split\n",
    "    X_train, X_test = X_gender[is_train == 1], X_gender[is_train == 0]\n",
    "    y_train, y_test = y_gender[is_train == 1], y_gender[is_train == 0]\n",
    "\n",
    "    # Scale\n",
    "    scaler = StandardScaler()\n",
    "    X_train_scaled = scaler.fit_transform(X_train)\n",
    "    X_test_scaled = scaler.transform(X_test)\n",
    "\n",
    "    # Train SVR\n",
    "    svr = SVR(kernel='rbf', C=10, epsilon=0.2)\n",
    "    svr.fit(X_train_scaled, y_train)\n",
    "\n",
    "    # Save\n",
    "    model_name = gender_label.lower()\n",
    "    joblib.dump(svr, f\"svr_model_{model_name}.pkl\")\n",
    "    joblib.dump(scaler, f\"scaler_{model_name}.pkl\")\n",
    "\n",
    "    # Evaluate\n",
    "    y_pred = np.exp(svr.predict(X_test_scaled))\n",
    "    y_true = np.exp(y_test)\n",
    "    r, _ = pearsonr(y_true, y_pred)\n",
    "    mae = mean_absolute_error(y_true, y_pred)\n",
    "    rmse = mean_squared_error(y_true, y_pred, squared=False)\n",
    "\n",
    "    print(f\"📈 Pearson r: {r:.3f}, MAE: {mae:.2f}, RMSE: {rmse:.2f}\")"
   ]
  }
 ],
 "metadata": {
  "kernelspec": {
   "display_name": "Python 3",
   "language": "python",
   "name": "python3"
  },
  "language_info": {
   "codemirror_mode": {
    "name": "ipython",
    "version": 3
   },
   "file_extension": ".py",
   "mimetype": "text/x-python",
   "name": "python",
   "nbconvert_exporter": "python",
   "pygments_lexer": "ipython3",
   "version": "3.9.6"
  }
 },
 "nbformat": 4,
 "nbformat_minor": 5
}
